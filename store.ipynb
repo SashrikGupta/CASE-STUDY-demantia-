{
 "cells": [
  {
   "cell_type": "code",
   "execution_count": 1,
   "metadata": {},
   "outputs": [],
   "source": [
    "import numpy as np\n",
    "import pandas as pd\n",
    "from pathlib import Path\n",
    "from tqdm import tqdm\n",
    "import torchaudio\n",
    "from sklearn.model_selection import train_test_split\n",
    "import os\n",
    "import sys"
   ]
  },
  {
   "cell_type": "code",
   "execution_count": 2,
   "metadata": {},
   "outputs": [
    {
     "data": {
      "text/html": [
       "<div>\n",
       "<style scoped>\n",
       "    .dataframe tbody tr th:only-of-type {\n",
       "        vertical-align: middle;\n",
       "    }\n",
       "\n",
       "    .dataframe tbody tr th {\n",
       "        vertical-align: top;\n",
       "    }\n",
       "\n",
       "    .dataframe thead th {\n",
       "        text-align: right;\n",
       "    }\n",
       "</style>\n",
       "<table border=\"1\" class=\"dataframe\">\n",
       "  <thead>\n",
       "    <tr style=\"text-align: right;\">\n",
       "      <th></th>\n",
       "      <th>file</th>\n",
       "      <th>label</th>\n",
       "      <th>path</th>\n",
       "    </tr>\n",
       "  </thead>\n",
       "  <tbody>\n",
       "    <tr>\n",
       "      <th>0</th>\n",
       "      <td>daningram_15</td>\n",
       "      <td>dementia</td>\n",
       "      <td>data/dementia/Dan Ingram/daningram_15.wav</td>\n",
       "    </tr>\n",
       "    <tr>\n",
       "      <th>1</th>\n",
       "      <td>terryjones_5</td>\n",
       "      <td>dementia</td>\n",
       "      <td>data/dementia/Terry Jones/terryjones_5.wav</td>\n",
       "    </tr>\n",
       "    <tr>\n",
       "      <th>2</th>\n",
       "      <td>maureenforrester_5</td>\n",
       "      <td>dementia</td>\n",
       "      <td>data/dementia/Maureen Forrester/maureenforrest...</td>\n",
       "    </tr>\n",
       "    <tr>\n",
       "      <th>3</th>\n",
       "      <td>aileenhernandez_0</td>\n",
       "      <td>dementia</td>\n",
       "      <td>data/dementia/Aileen Hernandez/aileenhernandez...</td>\n",
       "    </tr>\n",
       "    <tr>\n",
       "      <th>4</th>\n",
       "      <td>aileenhernandez_5_1</td>\n",
       "      <td>dementia</td>\n",
       "      <td>data/dementia/Aileen Hernandez/aileenhernandez...</td>\n",
       "    </tr>\n",
       "  </tbody>\n",
       "</table>\n",
       "</div>"
      ],
      "text/plain": [
       "                  file     label  \\\n",
       "0         daningram_15  dementia   \n",
       "1         terryjones_5  dementia   \n",
       "2   maureenforrester_5  dementia   \n",
       "3    aileenhernandez_0  dementia   \n",
       "4  aileenhernandez_5_1  dementia   \n",
       "\n",
       "                                                path  \n",
       "0          data/dementia/Dan Ingram/daningram_15.wav  \n",
       "1         data/dementia/Terry Jones/terryjones_5.wav  \n",
       "2  data/dementia/Maureen Forrester/maureenforrest...  \n",
       "3  data/dementia/Aileen Hernandez/aileenhernandez...  \n",
       "4  data/dementia/Aileen Hernandez/aileenhernandez...  "
      ]
     },
     "execution_count": 2,
     "metadata": {},
     "output_type": "execute_result"
    }
   ],
   "source": [
    "train_df = pd.read_csv('data/train_dm.csv' , header='infer')\n",
    "train_df.head(5)"
   ]
  },
  {
   "cell_type": "code",
   "execution_count": 3,
   "metadata": {},
   "outputs": [
    {
     "data": {
      "text/html": [
       "<div>\n",
       "<style scoped>\n",
       "    .dataframe tbody tr th:only-of-type {\n",
       "        vertical-align: middle;\n",
       "    }\n",
       "\n",
       "    .dataframe tbody tr th {\n",
       "        vertical-align: top;\n",
       "    }\n",
       "\n",
       "    .dataframe thead th {\n",
       "        text-align: right;\n",
       "    }\n",
       "</style>\n",
       "<table border=\"1\" class=\"dataframe\">\n",
       "  <thead>\n",
       "    <tr style=\"text-align: right;\">\n",
       "      <th></th>\n",
       "      <th>file</th>\n",
       "      <th>label</th>\n",
       "      <th>path</th>\n",
       "    </tr>\n",
       "  </thead>\n",
       "  <tbody>\n",
       "    <tr>\n",
       "      <th>0</th>\n",
       "      <td>JimmyCalderwood_5</td>\n",
       "      <td>dementia</td>\n",
       "      <td>data/dementia/Jimmy Calderwood/JimmyCalderwood...</td>\n",
       "    </tr>\n",
       "    <tr>\n",
       "      <th>1</th>\n",
       "      <td>vivnicholson_5</td>\n",
       "      <td>dementia</td>\n",
       "      <td>data/dementia/Viv Nicholson/vivnicholson_5.wav</td>\n",
       "    </tr>\n",
       "    <tr>\n",
       "      <th>2</th>\n",
       "      <td>IanHolm_2</td>\n",
       "      <td>dementia</td>\n",
       "      <td>data/dementia/Ian Holm/IanHolm_2.wav</td>\n",
       "    </tr>\n",
       "    <tr>\n",
       "      <th>3</th>\n",
       "      <td>CharmianCarr_15</td>\n",
       "      <td>dementia</td>\n",
       "      <td>data/dementia/Charmian Carr/CharmianCarr_15.wav</td>\n",
       "    </tr>\n",
       "    <tr>\n",
       "      <th>4</th>\n",
       "      <td>CharmianCarr_5</td>\n",
       "      <td>dementia</td>\n",
       "      <td>data/dementia/Charmian Carr/CharmianCarr_5.wav</td>\n",
       "    </tr>\n",
       "  </tbody>\n",
       "</table>\n",
       "</div>"
      ],
      "text/plain": [
       "                file     label  \\\n",
       "0  JimmyCalderwood_5  dementia   \n",
       "1     vivnicholson_5  dementia   \n",
       "2          IanHolm_2  dementia   \n",
       "3    CharmianCarr_15  dementia   \n",
       "4     CharmianCarr_5  dementia   \n",
       "\n",
       "                                                path  \n",
       "0  data/dementia/Jimmy Calderwood/JimmyCalderwood...  \n",
       "1     data/dementia/Viv Nicholson/vivnicholson_5.wav  \n",
       "2               data/dementia/Ian Holm/IanHolm_2.wav  \n",
       "3    data/dementia/Charmian Carr/CharmianCarr_15.wav  \n",
       "4     data/dementia/Charmian Carr/CharmianCarr_5.wav  "
      ]
     },
     "execution_count": 3,
     "metadata": {},
     "output_type": "execute_result"
    }
   ],
   "source": [
    "valid_df = pd.read_csv('data/valid_dm.csv' , header='infer')\n",
    "valid_df.head(5)"
   ]
  },
  {
   "cell_type": "code",
   "execution_count": 4,
   "metadata": {},
   "outputs": [],
   "source": [
    "import assemblyai as aai\n",
    "\n",
    "# Replace with your API key\n",
    "aai.settings.api_key = \"687063c7417345c4b8de68a676b60714\"\n",
    "transcriber = aai.Transcriber()"
   ]
  },
  {
   "cell_type": "code",
   "execution_count": 5,
   "metadata": {},
   "outputs": [],
   "source": [
    "def transcribe_audio(FILE_URL):\n",
    "   transcript = transcriber.transcribe(FILE_URL)\n",
    "   return transcript.text"
   ]
  },
  {
   "cell_type": "code",
   "execution_count": 7,
   "metadata": {},
   "outputs": [
    {
     "name": "stderr",
     "output_type": "stream",
     "text": [
      "Transcribing:   0%|          | 0/227 [00:00<?, ?it/s]"
     ]
    },
    {
     "name": "stderr",
     "output_type": "stream",
     "text": [
      "Transcribing:  33%|███▎      | 74/227 [19:47<43:09, 16.92s/it]  "
     ]
    },
    {
     "name": "stdout",
     "output_type": "stream",
     "text": [
      "Error transcribing data/dementia/Ronan O'Rahilly/ronano'rahilly_15_2.wav: [Errno 2] No such file or directory: \"data/dementia/Ronan O'Rahilly/ronano'rahilly_15_2.wav\"\n",
      "Error transcribing data/dementia/Ronan O'Rahilly/ronano'rahilly_15_1.wav: [Errno 2] No such file or directory: \"data/dementia/Ronan O'Rahilly/ronano'rahilly_15_1.wav\"\n"
     ]
    },
    {
     "name": "stderr",
     "output_type": "stream",
     "text": [
      "Transcribing:  48%|████▊     | 110/227 [28:37<23:09, 11.87s/it]  "
     ]
    },
    {
     "name": "stdout",
     "output_type": "stream",
     "text": [
      "Error transcribing data/nodementia/Yoko Ono/YokoOno_2.wav: [Errno 2] No such file or directory: 'data/nodementia/Yoko Ono/YokoOno_2.wav'\n"
     ]
    },
    {
     "name": "stderr",
     "output_type": "stream",
     "text": [
      "Transcribing:  51%|█████     | 115/227 [30:02<26:13, 14.05s/it]"
     ]
    },
    {
     "name": "stdout",
     "output_type": "stream",
     "text": [
      "Error transcribing data/nodementia/Kirk Douglas/Kirk Douglas_3.wav: [Errno 2] No such file or directory: 'data/nodementia/Kirk Douglas/Kirk Douglas_3.wav'\n"
     ]
    },
    {
     "name": "stderr",
     "output_type": "stream",
     "text": [
      "Transcribing:  52%|█████▏    | 119/227 [31:33<38:30, 21.39s/it]"
     ]
    },
    {
     "name": "stdout",
     "output_type": "stream",
     "text": [
      "Error transcribing data/nodementia/Judi Dench/Judi Dench_2.wav: [Errno 2] No such file or directory: 'data/nodementia/Judi Dench/Judi Dench_2.wav'\n"
     ]
    },
    {
     "name": "stderr",
     "output_type": "stream",
     "text": [
      "Transcribing:  55%|█████▍    | 124/227 [33:29<41:17, 24.06s/it]"
     ]
    },
    {
     "name": "stdout",
     "output_type": "stream",
     "text": [
      "Error transcribing data/nodementia/Jerry Lewis/JerryLewis3.wav: [Errno 2] No such file or directory: 'data/nodementia/Jerry Lewis/JerryLewis3.wav'\n"
     ]
    },
    {
     "name": "stderr",
     "output_type": "stream",
     "text": [
      "Transcribing:  56%|█████▌    | 126/227 [33:42<29:10, 17.33s/it]"
     ]
    },
    {
     "name": "stdout",
     "output_type": "stream",
     "text": [
      "Error transcribing data/nodementia/Jerry Lewis/JerryLewis1.wav: [Errno 2] No such file or directory: 'data/nodementia/Jerry Lewis/JerryLewis1.wav'\n"
     ]
    },
    {
     "name": "stderr",
     "output_type": "stream",
     "text": [
      "Transcribing:  59%|█████▉    | 135/227 [38:13<49:20, 32.18s/it]"
     ]
    },
    {
     "name": "stdout",
     "output_type": "stream",
     "text": [
      "Error transcribing data/nodementia/Rupert Murdoch/RupertMurdoch_2.wav: [Errno 2] No such file or directory: 'data/nodementia/Rupert Murdoch/RupertMurdoch_2.wav'\n",
      "Error transcribing data/nodementia/Jimmy Carter/Jimmy carter_3.wav: [Errno 2] No such file or directory: 'data/nodementia/Jimmy Carter/Jimmy carter_3.wav'\n",
      "Error transcribing data/nodementia/Jimmy Carter/Jimmy carter_2.wav: [Errno 2] No such file or directory: 'data/nodementia/Jimmy Carter/Jimmy carter_2.wav'\n"
     ]
    },
    {
     "name": "stderr",
     "output_type": "stream",
     "text": [
      "Transcribing:  62%|██████▏   | 140/227 [40:13<37:44, 26.03s/it]"
     ]
    },
    {
     "name": "stdout",
     "output_type": "stream",
     "text": [
      "Error transcribing data/nodementia/James Earl Jones/james earl jones_2.wav: [Errno 2] No such file or directory: 'data/nodementia/James Earl Jones/james earl jones_2.wav'\n",
      "Error transcribing data/nodementia/James Earl Jones/james earl jones_1.wav: [Errno 2] No such file or directory: 'data/nodementia/James Earl Jones/james earl jones_1.wav'\n"
     ]
    },
    {
     "name": "stderr",
     "output_type": "stream",
     "text": [
      "Transcribing:  63%|██████▎   | 143/227 [41:09<31:52, 22.77s/it]"
     ]
    },
    {
     "name": "stdout",
     "output_type": "stream",
     "text": [
      "Error transcribing data/nodementia/William Shatner/WilliamShatner_1.wav: [Errno 2] No such file or directory: 'data/nodementia/William Shatner/WilliamShatner_1.wav'\n",
      "Error transcribing data/nodementia/William Shatner/WilliamShatner_2.wav: [Errno 2] No such file or directory: 'data/nodementia/William Shatner/WilliamShatner_2.wav'\n"
     ]
    },
    {
     "name": "stderr",
     "output_type": "stream",
     "text": [
      "Transcribing:  66%|██████▌   | 150/227 [44:55<42:08, 32.84s/it]"
     ]
    },
    {
     "name": "stdout",
     "output_type": "stream",
     "text": [
      "Error transcribing data/nodementia/David McCallum/DavidMcCallum_1.wav: [Errno 2] No such file or directory: 'data/nodementia/David McCallum/DavidMcCallum_1.wav'\n",
      "Error transcribing data/nodementia/David McCallum/DavidMcCallum_3.wav: [Errno 2] No such file or directory: 'data/nodementia/David McCallum/DavidMcCallum_3.wav'\n",
      "Error transcribing data/nodementia/Martin Landau/MartinLandau_2.wav: [Errno 2] No such file or directory: 'data/nodementia/Martin Landau/MartinLandau_2.wav'\n",
      "Error transcribing data/nodementia/Martin Landau/MartinLandau_1.wav: [Errno 2] No such file or directory: 'data/nodementia/Martin Landau/MartinLandau_1.wav'\n",
      "Error transcribing data/nodementia/Martin Landau/MartinLandau_3.wav: [Errno 2] No such file or directory: 'data/nodementia/Martin Landau/MartinLandau_3.wav'\n",
      "Error transcribing data/nodementia/Sophia Loren/SophiaLoren_2.wav: [Errno 2] No such file or directory: 'data/nodementia/Sophia Loren/SophiaLoren_2.wav'\n",
      "Error transcribing data/nodementia/Sophia Loren/SophiaLoren_1.wav: [Errno 2] No such file or directory: 'data/nodementia/Sophia Loren/SophiaLoren_1.wav'\n",
      "Error transcribing data/nodementia/Jane Fonda/JaneFonda_3.wav: [Errno 2] No such file or directory: 'data/nodementia/Jane Fonda/JaneFonda_3.wav'\n",
      "Error transcribing data/nodementia/Jane Fonda/Jane Fonda_1.wav: [Errno 2] No such file or directory: 'data/nodementia/Jane Fonda/Jane Fonda_1.wav'\n",
      "Error transcribing data/nodementia/Hank Aaron/HankAaron_1.wav: [Errno 2] No such file or directory: 'data/nodementia/Hank Aaron/HankAaron_1.wav'\n",
      "Error transcribing data/nodementia/Hank Aaron/HankAaron_3.wav: [Errno 2] No such file or directory: 'data/nodementia/Hank Aaron/HankAaron_3.wav'\n",
      "Error transcribing data/nodementia/Hank Aaron/HankAaron_2.wav: [Errno 2] No such file or directory: 'data/nodementia/Hank Aaron/HankAaron_2.wav'\n",
      "Error transcribing data/nodementia/Clint Eastwood/Clint Eastwood_1.wav: [Errno 2] No such file or directory: 'data/nodementia/Clint Eastwood/Clint Eastwood_1.wav'\n",
      "Error transcribing data/nodementia/Clint Eastwood/Clint Eastwood_3.wav: [Errno 2] No such file or directory: 'data/nodementia/Clint Eastwood/Clint Eastwood_3.wav'\n",
      "Error transcribing data/nodementia/Clint Eastwood/Clint Eastwood_2.wav: [Errno 2] No such file or directory: 'data/nodementia/Clint Eastwood/Clint Eastwood_2.wav'\n",
      "Error transcribing data/nodementia/Milos Forman/MilosForman_3.wav: [Errno 2] No such file or directory: 'data/nodementia/Milos Forman/MilosForman_3.wav'\n",
      "Error transcribing data/nodementia/Milos Forman/MilosForman_1.wav: [Errno 2] No such file or directory: 'data/nodementia/Milos Forman/MilosForman_1.wav'\n",
      "Error transcribing data/nodementia/Milos Forman/MilosForman_2.wav: [Errno 2] No such file or directory: 'data/nodementia/Milos Forman/MilosForman_2.wav'\n",
      "Error transcribing data/nodementia/Dick van Dyke/dick van dyke_1.wav: [Errno 2] No such file or directory: 'data/nodementia/Dick van Dyke/dick van dyke_1.wav'\n",
      "Error transcribing data/nodementia/Dick van Dyke/dick van dyke_3.wav: [Errno 2] No such file or directory: 'data/nodementia/Dick van Dyke/dick van dyke_3.wav'\n",
      "Error transcribing data/nodementia/Johnny Mathis/JohnnyMathis_3.wav: [Errno 2] No such file or directory: 'data/nodementia/Johnny Mathis/JohnnyMathis_3.wav'\n",
      "Error transcribing data/nodementia/Johnny Mathis/Johnny Mathis_2.wav: [Errno 2] No such file or directory: 'data/nodementia/Johnny Mathis/Johnny Mathis_2.wav'\n",
      "Error transcribing data/nodementia/Michael Caine/Michael Caine_3.wav: [Errno 2] No such file or directory: 'data/nodementia/Michael Caine/Michael Caine_3.wav'\n",
      "Error transcribing data/nodementia/Michael Caine/Michael Caine_1.wav: [Errno 2] No such file or directory: 'data/nodementia/Michael Caine/Michael Caine_1.wav'\n",
      "Error transcribing data/nodementia/Michael Caine/Michael Caine_2.wav: [Errno 2] No such file or directory: 'data/nodementia/Michael Caine/Michael Caine_2.wav'\n",
      "Error transcribing data/nodementia/Steve Reich/SteveReich_2.wav: [Errno 2] No such file or directory: 'data/nodementia/Steve Reich/SteveReich_2.wav'\n",
      "Error transcribing data/nodementia/Steve Reich/SteveReich_3.wav: [Errno 2] No such file or directory: 'data/nodementia/Steve Reich/SteveReich_3.wav'\n",
      "Error transcribing data/nodementia/Burt Bacharach/Burt Bacharach_3.wav: [Errno 2] No such file or directory: 'data/nodementia/Burt Bacharach/Burt Bacharach_3.wav'\n",
      "Error transcribing data/nodementia/Burt Bacharach/Burt Bacharach_2.wav: [Errno 2] No such file or directory: 'data/nodementia/Burt Bacharach/Burt Bacharach_2.wav'\n",
      "Error transcribing data/nodementia/Burt Bacharach/Burt Bacharach_1.wav: [Errno 2] No such file or directory: 'data/nodementia/Burt Bacharach/Burt Bacharach_1.wav'\n",
      "Error transcribing data/nodementia/John Williams/JohnWilliams_2.wav: [Errno 2] No such file or directory: 'data/nodementia/John Williams/JohnWilliams_2.wav'\n",
      "Error transcribing data/nodementia/John Williams/JohnWilliams_3.wav: [Errno 2] No such file or directory: 'data/nodementia/John Williams/JohnWilliams_3.wav'\n",
      "Error transcribing data/nodementia/John Williams/JohnWilliams_1.wav: [Errno 2] No such file or directory: 'data/nodementia/John Williams/JohnWilliams_1.wav'\n",
      "Error transcribing data/nodementia/Joan Collins/JoanCollins_1.wav: [Errno 2] No such file or directory: 'data/nodementia/Joan Collins/JoanCollins_1.wav'\n",
      "Error transcribing data/nodementia/Joan Collins/JoanCollins_2.wav: [Errno 2] No such file or directory: 'data/nodementia/Joan Collins/JoanCollins_2.wav'\n",
      "Error transcribing data/nodementia/Joan Collins/JoanCollins_3.wav: [Errno 2] No such file or directory: 'data/nodementia/Joan Collins/JoanCollins_3.wav'\n",
      "Error transcribing data/nodementia/Bob Dole/BobDole_2.wav: [Errno 2] No such file or directory: 'data/nodementia/Bob Dole/BobDole_2.wav'\n",
      "Error transcribing data/nodementia/Bob Dole/BobDole_3.wav: [Errno 2] No such file or directory: 'data/nodementia/Bob Dole/BobDole_3.wav'\n",
      "Error transcribing data/nodementia/Bob Dole/BobDole_1.wav: [Errno 2] No such file or directory: 'data/nodementia/Bob Dole/BobDole_1.wav'\n",
      "Error transcribing data/nodementia/Peter Lupus/PeterLupus_2.wav: [Errno 2] No such file or directory: 'data/nodementia/Peter Lupus/PeterLupus_2.wav'\n",
      "Error transcribing data/nodementia/Gene Hackman/GeneHackman_2.wav: [Errno 2] No such file or directory: 'data/nodementia/Gene Hackman/GeneHackman_2.wav'\n",
      "Error transcribing data/nodementia/Gene Hackman/GeneHackman_1.wav: [Errno 2] No such file or directory: 'data/nodementia/Gene Hackman/GeneHackman_1.wav'\n",
      "Error transcribing data/nodementia/Gene Hackman/GeneHackman_3.wav: [Errno 2] No such file or directory: 'data/nodementia/Gene Hackman/GeneHackman_3.wav'\n",
      "Error transcribing data/nodementia/Robert Duvall/RobertDuvall_3.wav: [Errno 2] No such file or directory: 'data/nodementia/Robert Duvall/RobertDuvall_3.wav'\n",
      "Error transcribing data/nodementia/Robert Duvall/RobertDuvall_1.wav: [Errno 2] No such file or directory: 'data/nodementia/Robert Duvall/RobertDuvall_1.wav'\n",
      "Error transcribing data/nodementia/Robert Duvall/RobertDuvall_2.wav: [Errno 2] No such file or directory: 'data/nodementia/Robert Duvall/RobertDuvall_2.wav'\n",
      "Error transcribing data/nodementia/Roger Moore/RogerMoore_3.wav: [Errno 2] No such file or directory: 'data/nodementia/Roger Moore/RogerMoore_3.wav'\n",
      "Error transcribing data/nodementia/Roger Moore/RogerMoore_1.wav: [Errno 2] No such file or directory: 'data/nodementia/Roger Moore/RogerMoore_1.wav'\n",
      "Error transcribing data/nodementia/Roger Moore/RogerMoore_2.wav: [Errno 2] No such file or directory: 'data/nodementia/Roger Moore/RogerMoore_2.wav'\n",
      "Error transcribing data/nodementia/Dick van Patten/DickVanPatten_3.wav: [Errno 2] No such file or directory: 'data/nodementia/Dick van Patten/DickVanPatten_3.wav'\n",
      "Error transcribing data/nodementia/Dick van Patten/DickVanPatten_1.wav: [Errno 2] No such file or directory: 'data/nodementia/Dick van Patten/DickVanPatten_1.wav'\n",
      "Error transcribing data/nodementia/Alan Arkin/AlanArkin_3.wav: [Errno 2] No such file or directory: 'data/nodementia/Alan Arkin/AlanArkin_3.wav'\n",
      "Error transcribing data/nodementia/Alan Arkin/AlanArkin_1.wav: [Errno 2] No such file or directory: 'data/nodementia/Alan Arkin/AlanArkin_1.wav'\n",
      "Error transcribing data/nodementia/Bob Barker/bobbarker_2.wav: [Errno 2] No such file or directory: 'data/nodementia/Bob Barker/bobbarker_2.wav'\n",
      "Error transcribing data/nodementia/Bob Barker/bobbarker_3.wav: [Errno 2] No such file or directory: 'data/nodementia/Bob Barker/bobbarker_3.wav'\n",
      "Error transcribing data/nodementia/David Attenboroug/David Attenboroug_3.wav: [Errno 2] No such file or directory: 'data/nodementia/David Attenboroug/David Attenboroug_3.wav'\n",
      "Error transcribing data/nodementia/Buddy Guy/BuddyGuy_2.wav: [Errno 2] No such file or directory: 'data/nodementia/Buddy Guy/BuddyGuy_2.wav'\n",
      "Error transcribing data/nodementia/Buddy Guy/BuddyGuy_3.wav: [Errno 2] No such file or directory: 'data/nodementia/Buddy Guy/BuddyGuy_3.wav'\n",
      "Error transcribing data/nodementia/Sidney Poiter/sidney poiter_2.wav: [Errno 2] No such file or directory: 'data/nodementia/Sidney Poiter/sidney poiter_2.wav'\n",
      "Error transcribing data/nodementia/Sidney Poiter/sidney poiter_1.wav: [Errno 2] No such file or directory: 'data/nodementia/Sidney Poiter/sidney poiter_1.wav'\n",
      "Error transcribing data/nodementia/Sidney Poiter/sidney poiter_3.wav: [Errno 2] No such file or directory: 'data/nodementia/Sidney Poiter/sidney poiter_3.wav'\n",
      "Error transcribing data/nodementia/Karl Lagerfeld/KarlLagerfeld_2.wav: [Errno 2] No such file or directory: 'data/nodementia/Karl Lagerfeld/KarlLagerfeld_2.wav'\n",
      "Error transcribing data/nodementia/Karl Lagerfeld/KarlLagerfeld_3.wav: [Errno 2] No such file or directory: 'data/nodementia/Karl Lagerfeld/KarlLagerfeld_3.wav'\n",
      "Error transcribing data/nodementia/Nana Mouskouri/NanaMouskouri_1.wav: [Errno 2] No such file or directory: 'data/nodementia/Nana Mouskouri/NanaMouskouri_1.wav'\n",
      "Error transcribing data/nodementia/Nana Mouskouri/NanaMouskouri_3.wav: [Errno 2] No such file or directory: 'data/nodementia/Nana Mouskouri/NanaMouskouri_3.wav'\n",
      "Error transcribing data/nodementia/Betty White/Betty White_2.wav: [Errno 2] No such file or directory: 'data/nodementia/Betty White/Betty White_2.wav'\n",
      "Error transcribing data/nodementia/Betty White/Betty White_1.wav: [Errno 2] No such file or directory: 'data/nodementia/Betty White/Betty White_1.wav'\n",
      "Error transcribing data/nodementia/Betty White/Betty White_3.wav: [Errno 2] No such file or directory: 'data/nodementia/Betty White/Betty White_3.wav'\n",
      "Error transcribing data/nodementia/Walter Mondale/WalterMondale_3.wav: [Errno 2] No such file or directory: 'data/nodementia/Walter Mondale/WalterMondale_3.wav'\n",
      "Error transcribing data/nodementia/Rosalynn Carter/RosalynnCarter_1.wav: [Errno 2] No such file or directory: 'data/nodementia/Rosalynn Carter/RosalynnCarter_1.wav'\n",
      "Error transcribing data/nodementia/Rosalynn Carter/RosalynnCarter_3.wav: [Errno 2] No such file or directory: 'data/nodementia/Rosalynn Carter/RosalynnCarter_3.wav'\n",
      "Error transcribing data/nodementia/Rosalynn Carter/RosalynnCarter_2.wav: [Errno 2] No such file or directory: 'data/nodementia/Rosalynn Carter/RosalynnCarter_2.wav'\n"
     ]
    },
    {
     "name": "stderr",
     "output_type": "stream",
     "text": [
      "Transcribing: 100%|██████████| 227/227 [46:51<00:00, 12.39s/it]\n",
      "Transcribing:  48%|████▊     | 23/48 [06:16<02:07,  5.09s/it]"
     ]
    },
    {
     "name": "stdout",
     "output_type": "stream",
     "text": [
      "Error transcribing data/nodementia/Prince Philip/Prince Philip_2.wav: [Errno 2] No such file or directory: 'data/nodementia/Prince Philip/Prince Philip_2.wav'\n"
     ]
    },
    {
     "name": "stderr",
     "output_type": "stream",
     "text": [
      "Transcribing:  52%|█████▏    | 25/48 [06:24<01:47,  4.65s/it]"
     ]
    },
    {
     "name": "stdout",
     "output_type": "stream",
     "text": [
      "Error transcribing data/nodementia/Prince Philip/Prince Philip_1.wav: [Errno 2] No such file or directory: 'data/nodementia/Prince Philip/Prince Philip_1.wav'\n",
      "Error transcribing data/nodementia/George H W Bush/GeorgeHWBush_3.wav: [Errno 2] No such file or directory: 'data/nodementia/George H W Bush/GeorgeHWBush_3.wav'\n",
      "Error transcribing data/nodementia/George H W Bush/GeorgeHWBush_2.wav: [Errno 2] No such file or directory: 'data/nodementia/George H W Bush/GeorgeHWBush_2.wav'\n"
     ]
    },
    {
     "name": "stderr",
     "output_type": "stream",
     "text": [
      "Transcribing:  60%|██████    | 29/48 [06:28<00:48,  2.53s/it]"
     ]
    },
    {
     "name": "stdout",
     "output_type": "stream",
     "text": [
      "Error transcribing data/nodementia/Morgen Freeman/Morgen Freeman_3.wav: [Errno 2] No such file or directory: 'data/nodementia/Morgen Freeman/Morgen Freeman_3.wav'\n",
      "Error transcribing data/nodementia/Morgen Freeman/Morgen Freeman_2.wav: [Errno 2] No such file or directory: 'data/nodementia/Morgen Freeman/Morgen Freeman_2.wav'\n",
      "Error transcribing data/nodementia/Donald Sutherland/DonaldSutherland_3.wav: [Errno 2] No such file or directory: 'data/nodementia/Donald Sutherland/DonaldSutherland_3.wav'\n",
      "Error transcribing data/nodementia/Donald Sutherland/DonaldSutherland_2.wav: [Errno 2] No such file or directory: 'data/nodementia/Donald Sutherland/DonaldSutherland_2.wav'\n",
      "Error transcribing data/nodementia/Donald Sutherland/DonaldSutherland_1.wav: [Errno 2] No such file or directory: 'data/nodementia/Donald Sutherland/DonaldSutherland_1.wav'\n"
     ]
    },
    {
     "name": "stderr",
     "output_type": "stream",
     "text": [
      "Transcribing:  73%|███████▎  | 35/48 [06:36<00:24,  1.90s/it]"
     ]
    },
    {
     "name": "stdout",
     "output_type": "stream",
     "text": [
      "Error transcribing data/nodementia/Dick Cavett/DickCavett_1.wav: [Errno 2] No such file or directory: 'data/nodementia/Dick Cavett/DickCavett_1.wav'\n",
      "Error transcribing data/nodementia/Dick Cavett/DickCavett_3.wav: [Errno 2] No such file or directory: 'data/nodementia/Dick Cavett/DickCavett_3.wav'\n",
      "Error transcribing data/nodementia/Queen Elisabeth/Queen Elisabeth_3.wav: [Errno 2] No such file or directory: 'data/nodementia/Queen Elisabeth/Queen Elisabeth_3.wav'\n",
      "Error transcribing data/nodementia/Anthony Hopkins/AnthonyHopkins_1.wav: [Errno 2] No such file or directory: 'data/nodementia/Anthony Hopkins/AnthonyHopkins_1.wav'\n",
      "Error transcribing data/nodementia/Anthony Hopkins/AnthonyHopkins_2.wav: [Errno 2] No such file or directory: 'data/nodementia/Anthony Hopkins/AnthonyHopkins_2.wav'\n",
      "Error transcribing data/nodementia/Anthony Hopkins/AnthonyHopkins_3.wav: [Errno 2] No such file or directory: 'data/nodementia/Anthony Hopkins/AnthonyHopkins_3.wav'\n",
      "Error transcribing data/nodementia/Charles Aznavour/CharlesAznavour_3.wav: [Errno 2] No such file or directory: 'data/nodementia/Charles Aznavour/CharlesAznavour_3.wav'\n",
      "Error transcribing data/nodementia/Charles Aznavour/CharlesAznavour_1.wav: [Errno 2] No such file or directory: 'data/nodementia/Charles Aznavour/CharlesAznavour_1.wav'\n",
      "Error transcribing data/nodementia/Charles Aznavour/CharlesAznavour_2.wav: [Errno 2] No such file or directory: 'data/nodementia/Charles Aznavour/CharlesAznavour_2.wav'\n"
     ]
    },
    {
     "name": "stderr",
     "output_type": "stream",
     "text": [
      "Transcribing: 100%|██████████| 48/48 [06:48<00:00,  8.50s/it]\n"
     ]
    }
   ],
   "source": [
    "import pandas as pd\n",
    "from concurrent.futures import ThreadPoolExecutor, as_completed\n",
    "from tqdm import tqdm\n",
    "import numpy as np\n",
    "\n",
    "# Define the function for transcription\n",
    "def transcribe_audio(FILE_URL):\n",
    "    try:\n",
    "        transcript = transcriber.transcribe(FILE_URL)\n",
    "        return transcript.text\n",
    "    except Exception as e:\n",
    "        # Log the error if needed, and return NaN\n",
    "        print(f\"Error transcribing {FILE_URL}: {e}\")\n",
    "        return np.nan\n",
    "\n",
    "# Function to handle transcription with threading and progress\n",
    "def parallel_transcribe(df, column_name, num_threads=4):\n",
    "    transcriptions = [None] * len(df)\n",
    "    \n",
    "    def worker(index, file_url):\n",
    "        transcriptions[index] = transcribe_audio(file_url)\n",
    "    \n",
    "    with ThreadPoolExecutor(max_workers=num_threads) as executor:\n",
    "        futures = [executor.submit(worker, idx, url) for idx, url in enumerate(df[column_name])]\n",
    "        for future in tqdm(as_completed(futures), total=len(futures), desc=\"Transcribing\"):\n",
    "            future.result()  # This will raise exceptions if any occurred in the threads\n",
    "    \n",
    "    return transcriptions\n",
    "\n",
    "\n",
    "# Apply parallel transcription with progress tracking\n",
    "train_df['transcription'] = parallel_transcribe(train_df, 'path', num_threads=4)\n",
    "valid_df['transcription'] = parallel_transcribe(valid_df, 'path', num_threads=4)\n",
    "\n",
    "# Save the results to CSV\n",
    "train_df.to_csv('data/train_dm_transcription.csv', index=False)\n",
    "valid_df.to_csv('data/valid_dm_transcription.csv', index=False)\n"
   ]
  }
 ],
 "metadata": {
  "kernelspec": {
   "display_name": "Python 3",
   "language": "python",
   "name": "python3"
  },
  "language_info": {
   "codemirror_mode": {
    "name": "ipython",
    "version": 3
   },
   "file_extension": ".py",
   "mimetype": "text/x-python",
   "name": "python",
   "nbconvert_exporter": "python",
   "pygments_lexer": "ipython3",
   "version": "3.11.4"
  }
 },
 "nbformat": 4,
 "nbformat_minor": 2
}
